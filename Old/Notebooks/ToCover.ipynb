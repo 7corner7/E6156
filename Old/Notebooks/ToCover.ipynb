{
 "cells": [
  {
   "cell_type": "markdown",
   "metadata": {},
   "source": [
    "# To Cover\n",
    "<style>\n",
    "div.warn {    \n",
    "    background-color: #fcf2f2;\n",
    "    border-color: #dFb5b4;\n",
    "    border-left: 5px solid #dfb5b4;\n",
    "    padding: 0.5em;\n",
    "    }\n",
    " </style>\n",
    " \n",
    "- VMMV, MVC\n",
    "- ORM\n",
    "- Top-down, Bottom-up methodology.\n",
    "- Design patterns from Fowler's Microservice characteristics page.\n",
    "- Domain Driven Design.\n",
    "- Eventual consistency.\n",
    "- Agile development."
   ]
  },
  {
   "cell_type": "code",
   "execution_count": null,
   "metadata": {},
   "outputs": [],
   "source": []
  }
 ],
 "metadata": {
  "kernelspec": {
   "display_name": "Javascript (Node.js)",
   "language": "javascript",
   "name": "javascript"
  },
  "language_info": {
   "file_extension": ".js",
   "mimetype": "application/javascript",
   "name": "javascript",
   "version": "8.10.0"
  },
  "toc": {
   "nav_menu": {},
   "number_sections": true,
   "sideBar": true,
   "skip_h1_title": false,
   "title_cell": "Table of Contents",
   "title_sidebar": "Contents",
   "toc_cell": false,
   "toc_position": {},
   "toc_section_display": true,
   "toc_window_display": false
  }
 },
 "nbformat": 4,
 "nbformat_minor": 2
}
