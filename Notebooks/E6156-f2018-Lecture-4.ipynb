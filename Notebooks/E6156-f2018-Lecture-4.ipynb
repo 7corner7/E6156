{
 "cells": [
  {
   "cell_type": "markdown",
   "metadata": {},
   "source": [
    "<h1 style=\"display:none;\">Test</h1>\n",
    "<h1 style=\"display:none;\">Test</h1>\n",
    "<h1 style=\"display:none;\">Test</h1>\n",
    "<h1 style=\"line-height: 1.3\">E6156: Topics in SW Engineering - Microservice and Cloud Applications.<br>REST Intro., PaaS/Elastic Beanstalk, Calling Cloud Service, Authentication/Authorization,</h1>"
   ]
  },
  {
   "cell_type": "markdown",
   "metadata": {},
   "source": [
    "## Lecture Overview\n",
    "\n",
    "- REST API\n",
    "\n",
    "\n",
    "- Quick look at Open API Specification $-$ API Concepts\n",
    "\n",
    "\n",
    "- Middleware Overview and Example\n",
    "\n",
    "\n",
    "- Authentication and Authorization $-$ Review\n",
    "\n",
    "\n",
    "- CloudFront, API Gateway"
   ]
  },
  {
   "cell_type": "markdown",
   "metadata": {},
   "source": [
    "## Representational State Transfer (REST)\n",
    "\n",
    "### Overview\n",
    "\n",
    "- \"Representational State Transfer (REST) is an architectural style that defines a set of constraints to be used for creating web services. Web Services that conform to the REST architectural style, or RESTful web services, provide interoperability between computer systems on the Internet. REST-compliant web services allow the requesting systems to access and manipulate textual representations of web resources by __using a uniform and predefined set of stateless operations.__ Other kinds of web services, such as SOAP web services, expose their own arbitrary sets of operations.\" \\(Emphasis added\\).(https://en.wikipedia.org/wiki/Representational_state_transfer)\n",
    "\n",
    "\n",
    "- Non-RESTful applications surface service/domain specific operations, e.g.\n",
    "    - ```open_account(...)```\n",
    "    - ```transfer(...)```\n",
    "    - ```check_balance(...)```\n",
    "    \n",
    "\n",
    "- The uniform, predefined REST operations are the HTTP Methods:\n",
    "    - GET\n",
    "    - PUT (or PATCH)\n",
    "    - POST\n",
    "    - DELETE\n",
    "    \n",
    "    \n",
    "- These represent Create-Retrieve-Update-Delete operations on __resources__ identified by __URLs.__\n",
    "    - POST is Create\n",
    "    - GET is Retrieve\n",
    "    - PUT (or PATCH) is Update\n",
    "    - DELETE is Delete.\n",
    "    \n",
    "    \n",
    "- __Note:__ People often confuse:\n",
    "    - Remote procedure call/service invocation using HTTP\n",
    "    - REST\n",
    "    - They are not the same thing.\n",
    "    \n",
    "    \n",
    "- The six core characteristics of the REST style are:\n",
    "    1. Client–server architecture\n",
    "    1. Statelessness\n",
    "    3. Cacheability\n",
    "    3. Layered system\n",
    "    4. Code on demand (optional)\n",
    "    6. Uniform interface\n",
    "\n",
    "\n",
    "- You may also hear the term __Hypermedia As The Engine Of Application State (HATEOAS).__\n",
    "    "
   ]
  },
  {
   "cell_type": "markdown",
   "metadata": {},
   "source": [
    "### Client-Server Architecture\n",
    "\n",
    "| <img src=\"./images/rest-client-server.jpg\"> |\n",
    "| :---: |\n",
    "| __REST Client Server__ |"
   ]
  },
  {
   "cell_type": "markdown",
   "metadata": {},
   "source": [
    "- \"The client–server model is a distributed application structure that partitions tasks or workloads between the providers of a resource or service, called servers, and service requesters, called clients. Often clients and servers communicate over a computer network on separate hardware, but both client and server may reside in the same system.\" (https://en.wikipedia.org/wiki/Client%E2%80%93server_model)\n",
    "\n",
    "\n",
    "- Concept is straightforward."
   ]
  },
  {
   "cell_type": "markdown",
   "metadata": {},
   "source": [
    "### Statelessness\n",
    "\n",
    "- Statelessness is easy to misunderstand.\n",
    "\n",
    "\n",
    "- The server _clearly_ has long-lived state information, e.g.\n",
    "    - Account balances.\n",
    "    - Customer contact information.\n",
    "    - Product catalog information in a database.\n",
    "    - etc.\n",
    "    \n",
    "    \n",
    "- Client-Server interactions have two types of state:\n",
    "    - Resource state\n",
    "    - Conversation/Session\n",
    "    \n",
    "    \n",
    "- \"In computer science, in particular networking, a session is a temporary and interactive information interchange between two or more communicating devices, or between a computer and user.\" (https://en.wikipedia.org/wiki/Session_(computer_science))\n",
    "\n",
    "\n",
    "| <img src=\"./images/session-state.jpeg\"> |\n",
    "| :---: |\n",
    "| __Session/Conversation Start__ |"
   ]
  },
  {
   "cell_type": "markdown",
   "metadata": {},
   "source": [
    "| <img src=\"./images/http_session.jpg\"> |\n",
    "| :---: |\n",
    "| __HTTP Session__ |"
   ]
  },
  {
   "cell_type": "markdown",
   "metadata": {},
   "source": [
    "- Database cursors are an example of conversation state.\n",
    "\n",
    "\n",
    "- Example stateful \"service\" using cursors."
   ]
  },
  {
   "cell_type": "code",
   "execution_count": null,
   "metadata": {},
   "outputs": [],
   "source": [
    "import pymysql.cursors\n",
    "import pandas as pd\n",
    "import json\n",
    "\n",
    "\n",
    "cnx = pymysql.connect(host='localhost',\n",
    "                             user='dbuser',\n",
    "                             password='dbuser',\n",
    "                             db='lahman2017',\n",
    "                             charset='utf8mb4',\n",
    "                             cursorclass=pymysql.cursors.DictCursor)\n",
    "\n",
    "cursor = cnx.cursor()\n",
    "\n",
    "\n",
    "def get_by_last_name(lastName):\n",
    "    cursor.execute(\"select * from people where nameLast=%s\",(lastName));\n",
    "    r = cursor.fetchone()\n",
    "    return r\n",
    "\n",
    "def get_next():\n",
    "    r = cursor.fetchone()\n",
    "    return r"
   ]
  },
  {
   "cell_type": "markdown",
   "metadata": {},
   "source": [
    "- Example stateful client for stateful server."
   ]
  },
  {
   "cell_type": "code",
   "execution_count": null,
   "metadata": {},
   "outputs": [],
   "source": [
    "import cursor\n",
    "\n",
    "first = cursor.get_by_last_name(\"Williams\")\n",
    "\n",
    "print(\"First = \", first)\n",
    "\n",
    "done = False\n",
    "while not done:\n",
    "    next = cursor.get_next()\n",
    "    if next is None or len(next) == 0:\n",
    "        done = True\n",
    "    else:\n",
    "        print(\"Next = \", next)"
   ]
  },
  {
   "cell_type": "markdown",
   "metadata": {},
   "source": [
    "- Statelessness in REST means that the server does not maintain conversation state.\n",
    "\n",
    "\n",
    "- All requests from the client are complete and self-contained.\n",
    "\n",
    "\n",
    "- The server _may_ return state to the client that the client must return on subsequent requests. $\\Rightarrow$<br>The client maintains any conversation state the server requires.\n",
    "\n",
    "\n",
    "| <img src=\"./images/rest_client.jpg\">|\n",
    "| :---: |\n",
    "| [REST Self-Contained Messages](http://mrbool.com/rest-architectural-elements-and-constraints/29339) |\n",
    "\n",
    "- Stateless server example"
   ]
  },
  {
   "cell_type": "code",
   "execution_count": null,
   "metadata": {},
   "outputs": [],
   "source": [
    "import pymysql.cursors\n",
    "import pandas as pd\n",
    "import json\n",
    "\n",
    "\n",
    "cnx = pymysql.connect(host='localhost',\n",
    "                             user='dbuser',\n",
    "                             password='dbuser',\n",
    "                             db='lahman2017',\n",
    "                             charset='utf8mb4',\n",
    "                             cursorclass=pymysql.cursors.DictCursor)\n",
    "\n",
    "\n",
    "def get_by_last_name(lastName, offset):\n",
    "    cursor=cnx.cursor()\n",
    "    q = \"select * from people where nameLast=%s limit 1 offset %s\"\n",
    "    cursor.execute(q, (lastName, offset))\n",
    "    r = cursor.fetchone()\n",
    "    return r\n"
   ]
  },
  {
   "cell_type": "markdown",
   "metadata": {},
   "source": [
    "- Statless client example"
   ]
  },
  {
   "cell_type": "code",
   "execution_count": null,
   "metadata": {},
   "outputs": [],
   "source": [
    "import stateless_server\n",
    "\n",
    "\n",
    "done = False\n",
    "offset = 0\n",
    "\n",
    "while not done:\n",
    "    next = stateless_server.get_by_last_name(\"Williams\", offset)\n",
    "    if next is None or len(next) == 0:\n",
    "        done = True\n",
    "    else:\n",
    "        print(\"Next = \", next)\n",
    "        offset += 1\n"
   ]
  },
  {
   "cell_type": "markdown",
   "metadata": {},
   "source": [
    "- Is there a concern about the client modifying or tinkering with the state information?\n",
    "\n",
    "\n",
    "- Yes, and the server can encrypt the session state information to prevent tampering.\n",
    "\n",
    "\n",
    "- Facebook example\n",
    "\n",
    "| <img src=\"./images/facebook-request.jpg\"> |\n",
    "| :---: |\n",
    "| __Sample Facebook Request__ |"
   ]
  },
  {
   "cell_type": "markdown",
   "metadata": {},
   "source": [
    "- The Facebook request contains an encrypted _access token._ \"In computer systems, an access token contains the security credentials for (...) identifies the user, the user's groups, the user's privileges, and, in some cases, a particular application.\" (https://en.wikipedia.org/wiki/Access_token)\n",
    "\n",
    "\n",
    "- The response contains hashed and encrypted session state that MUST be returned to continue the conversational interaction."
   ]
  },
  {
   "cell_type": "markdown",
   "metadata": {},
   "source": [
    "### Cacheability\n",
    "\n",
    "- Cacheability means exactly what the word implies. There may be several intermediaries between the client and server that caches a result.\n",
    "\n",
    "\n",
    "- The intermediaries check the cache on a request and return the cached result without forwarding the request to the server.\n",
    "\n",
    "\n",
    "| <img src=\"./images/cacheability.jpg\"> |\n",
    "| :---: |\n",
    "| __Cacheability__ |"
   ]
  },
  {
   "cell_type": "markdown",
   "metadata": {},
   "source": [
    "- The client and server can specify cache control headers in requests and responses.\n",
    "\n",
    "| <img src=\"./images/cache_control_headers.jpeg\"> |\n",
    "| :---: |\n",
    "| [Subset of Cache Control Directives](https://developer.mozilla.org/en-US/docs/Web/HTTP/Headers/Cache-Control)"
   ]
  },
  {
   "cell_type": "markdown",
   "metadata": {},
   "source": [
    "### Layered System\n",
    "\n",
    "- There may be many, many, many things including other microservices between the client and server. For example,\n",
    "    - Firewalls.\n",
    "    - Cache servers.\n",
    "    - Middleware servers.\n",
    "    - ... ...\n",
    "    \n",
    "    \n",
    "- Part of designing and deploying microservices and cloud applications involves configuring or developing functionality that resides in various layers/intermediaries. We will see examples in the class."
   ]
  },
  {
   "cell_type": "markdown",
   "metadata": {},
   "source": [
    "### Code on Demand\n",
    "\n",
    "- This primarily means that browsers (or devices) may be able to/have to download code to interact with server.\n",
    "\n",
    "\n",
    "- JavaScript in the browser is the most common example, and we will do this in our projects."
   ]
  },
  {
   "cell_type": "markdown",
   "metadata": {},
   "source": [
    "### Uniform Interface"
   ]
  },
  {
   "cell_type": "markdown",
   "metadata": {},
   "source": [
    "- Resource identification in requests:\n",
    "    - URIs, and nothing else, identifies a resource.\n",
    "    - Resources are representations (JSON, XML, ...), and the client is unaware of the underlying realization, e.g. relational database, some legacy application, ...\n",
    "    \n",
    "    \n",
    "- Manipulation of Resources Through Representations: When a client holds a representation of a resource, including any metadata attached, it has enough information to modify or delete the resource on the server, provided it has permission to do so. There is no additional information or data necessary, for example in documentation or other services.\n",
    "\n",
    "\n",
    "- Self-descriptive messages: Each message includes enough information to describe how to process the message.\n",
    "\n",
    "\n",
    "- <u>Hypermedia as the Engine of Application State (HATEOAS):</u> Clients deliver state via body contents, query-string parameters, request headers and the requested URI (the resource name). Services deliver state to clients via body content, response codes, and response headers. __Responses contain links to related resources.__ Awareness of how to convert data into URIs is not necessary.\n",
    "\n",
    "\n",
    "- This will become more clear as we build out our services. The best way to learn this vaguely explained concept is by implementing it."
   ]
  },
  {
   "cell_type": "markdown",
   "metadata": {},
   "source": [
    "## Customers API Overview\n",
    "\n",
    "### Conceptual Model\n",
    "\n",
    "- The [Open API Specification](https://swagger.io/specification/) provides a model (and some tools) for thinking about APIs and how to model/define them.\n",
    "\n",
    "\n",
    "- [Open API Explorer](http://openapi-map.apihandyman.io/?version=3.0) is an interactive tool for understanding Open API definitions and the elements.\n",
    "\n",
    "\n",
    "| <img src=\"./images/open_api.jpeg\"> |\n",
    "| :---: |\n",
    "| [Open API Explorer](http://openapi-map.apihandyman.io/?version=3.0) |"
   ]
  },
  {
   "cell_type": "markdown",
   "metadata": {},
   "source": [
    "- __Open API Swagger Demo__\n",
    "\n",
    "\n",
    "- Open API is a systematic, thorough, complete, ... approach to publishing and collaborating on APIs.\n",
    "\n",
    "\n",
    "- We do not need to do anything this systematic but the model is good to understand.\n",
    "\n",
    "\n",
    "- The basic pattern focuses on paths.\n",
    "\n",
    "```\n",
    "/Customers\n",
    "    GET /Customers?<query parameters>&fields=<list of fields>\n",
    "    POST /Customers\n",
    "    \n",
    "/Customers/{id}\n",
    "    GET fields=<list of fields>\n",
    "    PUT\n",
    "    DELETE\n",
    "    \n",
    "/Customers/{id}/<Some related resource>\n",
    "```"
   ]
  },
  {
   "cell_type": "markdown",
   "metadata": {},
   "source": [
    "- Once we have the API working, we will connect to the web page.\n",
    "\n",
    "\n",
    "- __API Demo and code walkthrough__\n",
    "\n",
    "| <img src=\"./images/postman_api_1.jpeg\"> |\n",
    "| :---: |\n",
    "| __API Demo__ |\n"
   ]
  },
  {
   "cell_type": "markdown",
   "metadata": {},
   "source": [
    "- Our application currently has the following paths:\n",
    "    - /Customers\n",
    "    - /Customers/{id}\n",
    "    - /Register\n",
    "    - /Login\n",
    "    \n",
    "    \n",
    "- __Swagger Walkthrough and Demo__\n",
    "\n",
    "| <img src=\"./images/swagger_1.jpeg\"> |\n",
    "| :---: |\n",
    "| __Open API and Swagger__ |"
   ]
  },
  {
   "cell_type": "markdown",
   "metadata": {},
   "source": [
    "## Middleware\n",
    "\n",
    "### Concept Introduction\n",
    "\n",
    "<img src=\"./images/middleware/Slide2.jpg\">\n",
    "<img src=\"./images/middleware/Slide3.jpg\">\n",
    "<img src=\"./images/middleware/Slide4.jpg\">\n",
    "<img src=\"./images/middleware/Slide5.jpg\">"
   ]
  },
  {
   "cell_type": "markdown",
   "metadata": {},
   "source": [
    "### Middleware Direction (for Course)\n",
    "\n",
    "- We have seen an initial, ad hoc example in the login and authorization code.\n",
    "\n",
    "\n",
    "- Please make sure you structure you authentication and authorization code following the model.\n",
    "\n",
    "\n",
    "- We will start adding additional middleware capabilities, e.g. result caching in Redis, event notification."
   ]
  },
  {
   "cell_type": "markdown",
   "metadata": {},
   "source": [
    "## Authentication and Authorization $-$ Reminder\n",
    "\n",
    "### Let's Register or Logon On"
   ]
  },
  {
   "cell_type": "markdown",
   "metadata": {},
   "source": [
    "__Demo__\n",
    "\n",
    "- The simplest and most basic approach is ```{userid, password}``` and will will start with it.\n",
    "\n",
    "\n",
    "- What happens when we click on ```login```?\n",
    "\n",
    "HTML"
   ]
  },
  {
   "cell_type": "code",
   "execution_count": null,
   "metadata": {},
   "outputs": [],
   "source": [
    "<li ng-click=\"navMenu('login')\" ng-class=\"getNavClass('login')\" ng-show=\"!loginRegisterResult\">\n",
    "    <a class=\"nav-link\" ng-click=\"doLogin()\">Login</a>\n",
    "</li>"
   ]
  },
  {
   "cell_type": "markdown",
   "metadata": {},
   "source": [
    "JavaScript"
   ]
  },
  {
   "cell_type": "code",
   "execution_count": null,
   "metadata": {},
   "outputs": [],
   "source": [
    "$scope.doLogin = function() {\n",
    "    $(\"#loginModal\").modal(\"show\");\n",
    "};"
   ]
  },
  {
   "cell_type": "markdown",
   "metadata": {},
   "source": [
    "- What happens when the user complete the login form and submits? The controller\n",
    "    1. Gets the data from the form fields.\n",
    "    1. ```POSTs``` to ```/login``` or ```/register```\n",
    "    1. Receives a success ```201``` or some kind of error.\n",
    "    1. If success, saves the \"token\" in the browser application storage for subsequent requests.\n",
    "    1. Updates state and may retrieve customer profile."
   ]
  },
  {
   "cell_type": "code",
   "execution_count": null,
   "metadata": {},
   "outputs": [],
   "source": [
    "$scope.driveLogin = function() {\n",
    "        let req = null;\n",
    "        let url = null;\n",
    "        let op = null;\n",
    "\n",
    "        if ($scope.register) {\n",
    "            req = {\n",
    "                lastName: $scope.lastName,\n",
    "                firstName: $scope.firstName,\n",
    "                email: $scope.lemail,\n",
    "                pw: $scope.password\n",
    "            };\n",
    "            op = \"register\";\n",
    "            url = getApiURL() + \"/register\";\n",
    "        }\n",
    "        else {\n",
    "            req = {\n",
    "                email: $scope.lemail,\n",
    "                pw: $scope.password\n",
    "            };\n",
    "            op = \"login\";\n",
    "            url = getApiURL() + \"/login\";\n",
    "        };\n",
    "\n",
    "        $http.post(url, req).then(\n",
    "            function(result) {\n",
    "                console.log(\"Result = \" + JSON.stringify(result));\n",
    "                let authorization = result.headers('authorization');\n",
    "                $window.sessionStorage.setItem(\"credentials\", JSON.stringify(authorization));\n",
    "                $scope.loginRegisterResult = true;\n",
    "                $scope.loginRegisterMessage = \"Success. Registered/Logged on. Click close\";\n",
    "                getCustomerInfo(result.data)\n",
    "            },\n",
    "            function(error) {\n",
    "                console.log(\"Result = \" + JSON.stringify(result));\n",
    "                $scope.loginRegisterMessage = \"Failed. Close and try again.\"\n",
    "                $scope.loginRegisterResult = true;\n",
    "            }\n",
    "        );\n",
    "\n",
    "    };"
   ]
  },
  {
   "cell_type": "markdown",
   "metadata": {},
   "source": [
    "- We keep the returned token in _browser session storage_ and send on subsequent requests.\n",
    "\n",
    "\n",
    "- \"The sessionStorage property allows you to access a session Storage object for the current origin. sessionStorage is similar to Window.localStorage; the only difference is while data stored in localStorage has no expiration set, data stored in sessionStorage gets cleared when the page session ends. A page session lasts for as long as the browser is open and survives over page reloads and restores.\" (https://developer.mozilla.org/en-US/docs/Web/API/Window/sessionStorage) \n",
    "\n",
    "\n",
    "- There is also longer lived ```local storage.```\n",
    "\n",
    "| <img src=\"./images/session_storage.jpeg\"> |\n",
    "| :---: |\n",
    "| __Session Storage__ |"
   ]
  },
  {
   "cell_type": "markdown",
   "metadata": {},
   "source": [
    "### Server Side Code\n",
    "\n",
    "\n",
    "- There is a _business logic layer object/module_ that implements ```login()``` and ```register().```\n",
    "\n",
    "\n",
    "- Implements functionality by using ```customer business object.```\n"
   ]
  },
  {
   "cell_type": "markdown",
   "metadata": {},
   "source": [
    "- Code walkthrough."
   ]
  },
  {
   "cell_type": "markdown",
   "metadata": {},
   "source": [
    "## Web, HTTPS, Single Site Image\n",
    "\n",
    "### CloudFront\n",
    "\n",
    "<img src=\"./images/cloud-front/Slide01.jpg\">\n",
    "<img src=\"./images/cloud-front/Slide02.jpg\">"
   ]
  },
  {
   "cell_type": "markdown",
   "metadata": {},
   "source": [
    "- All enterprise sites having something like CloudFront to provide\n",
    "    - Acceleration, scalability, ...\n",
    "    - Single site image in front of multiple sources of content and APIs.\n",
    "    \n",
    "    "
   ]
  },
  {
   "cell_type": "markdown",
   "metadata": {},
   "source": [
    "- CloudFront walk through."
   ]
  },
  {
   "cell_type": "markdown",
   "metadata": {},
   "source": [
    "### Web/Microservice Security Introduction\n",
    "\n",
    "<img src=\"./images/cloud-front/Slide03.jpg\">\n",
    "<img src=\"./images/cloud-front/Slide04.jpg\">\n",
    "<img src=\"./images/cloud-front/Slide05.jpg\">"
   ]
  },
  {
   "cell_type": "markdown",
   "metadata": {},
   "source": [
    "<img src=\"./images/cloud-front/Slide06.jpg\">\n",
    "<img src=\"./images/cloud-front/Slide07.jpg\">\n",
    "<img src=\"./images/cloud-front/Slide08.jpg\">"
   ]
  },
  {
   "cell_type": "markdown",
   "metadata": {},
   "source": [
    "<img src=\"./images/cloud-front/Slide09.jpg\">\n",
    "<img src=\"./images/cloud-front/Slide10.jpg\">\n",
    "<img src=\"./images/cloud-front/Slide11.jpg\">"
   ]
  },
  {
   "cell_type": "markdown",
   "metadata": {},
   "source": [
    "<img src=\"./images/cloud-front/Slide12.jpg\">\n",
    "<img src=\"./images/cloud-front/Slide13.jpg\">\n",
    "<img src=\"./images/cloud-front/Slide14.jpg\">"
   ]
  },
  {
   "cell_type": "markdown",
   "metadata": {},
   "source": [
    "<img src=\"./images/cloud-front/Slide15.jpg\">\n",
    "<img src=\"./images/cloud-front/Slide16.jpg\">\n",
    "<img src=\"./images/cloud-front/Slide17.jpg\">\n",
    "<img src=\"./images/cloud-front/Slide18.jpg\">"
   ]
  },
  {
   "cell_type": "code",
   "execution_count": null,
   "metadata": {},
   "outputs": [],
   "source": []
  }
 ],
 "metadata": {
  "kernelspec": {
   "display_name": "Javascript (Node.js)",
   "language": "javascript",
   "name": "javascript"
  },
  "language_info": {
   "file_extension": ".js",
   "mimetype": "application/javascript",
   "name": "javascript",
   "version": "8.10.0"
  },
  "toc": {
   "nav_menu": {},
   "number_sections": true,
   "sideBar": true,
   "skip_h1_title": false,
   "title_cell": "Table of Contents",
   "title_sidebar": "Contents",
   "toc_cell": false,
   "toc_position": {},
   "toc_section_display": true,
   "toc_window_display": false
  }
 },
 "nbformat": 4,
 "nbformat_minor": 2
}
