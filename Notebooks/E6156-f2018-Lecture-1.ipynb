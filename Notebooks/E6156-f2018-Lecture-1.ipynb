{
 "cells": [
  {
   "cell_type": "markdown",
   "metadata": {},
   "source": [
    "# Topics in SW Engineering: Cloud and Microservice Applications<br>Lecture 1: Introduction and Overview"
   ]
  },
  {
   "cell_type": "markdown",
   "metadata": {},
   "source": [
    "## About your instructor\n",
    "\n",
    "- _Professor of Professional Practice,_ Dept. of Computer Science. \n",
    "\n",
    "\n",
    "- Academic experience\n",
    "    - Ph.D. in Computer Science, Columbia University, 1989\n",
    "    - Joined Columbia as first full time _Professor of Professional Practice_, 01-Jan-2018\n",
    "    - 8 semesters as an adjunct professor teaching\n",
    "        - _E6998: Topics in Computer Science_\n",
    "            - Cloud Computing\n",
    "            - Web and Internet Application Development\n",
    "            - Web Application Servers and Applications\n",
    "            - Microservices\n",
    "        - _W4111 - Introduction to Databases_\n",
    "        - _E1006 - Introduction to Computing for Engineers and Applied Scientists using Python_\n",
    "\n",
    "\n",
    "- 35 years industry experience\n",
    "    - [IBM Fellow](https://en.wikipedia.org/wiki/IBM_Fellow), Chief Architect for [IBM Software Group](https://en.wikipedia.org/wiki/IBM_Software_Group_(SWG)\n",
    "    - Microsoft Technical Fellow\n",
    "    - Executive Vice President, Chief Technology Officer, [CA Technologies](https://www.ca.com/us.html)\n",
    "    - Vice President, CTO, Senior Fellow, [Dell Software Group](https://en.wikipedia.org/wiki/Dell_Software)\n",
    "    - Co-Founder and CTO, [Seeka TV](https://seekatv.com/)\n",
    "\n",
    "\n",
    "- Publications\n",
    "    - Approximately 60 technical publications.\n",
    "    - Authored, co-authored several standards in web applications and web services.\n",
    "    - 12 patents.\n",
    "\n",
    "\n",
    "- Personal and hobbies\n",
    "    - Two amazing daughters (One is Barnard student. One is a junior in high school)\n",
    "    - Interested in languages. Speak Spanish reasonably well and trying to learn Arabic.\n",
    "    - Black Belt in Kenpo Karate\n",
    "    - Amateur astronomy\n",
    "    - Road bicycling\n",
    "    - Officer in the New York Guard\n",
    "\n",
    "<br>\n",
    "\n",
    "|<img src=\"./images/aboutme.jpeg\">|\n",
    "|:---:|\n",
    "|__About Me__|"
   ]
  },
  {
   "cell_type": "markdown",
   "metadata": {},
   "source": [
    "## About this Course\n",
    "\n",
    "### Microservice\n",
    "\n",
    "\"A 'microservice' is a software development technique—a variant of the service-oriented architecture (SOA) architectural style that structures an application as a collection of loosely coupled services. In a microservices architecture, services are fine-grained and the protocols are lightweight. The benefit of decomposing an application into different smaller services is that it improves modularity and makes the application easier to understand, develop, test, and more resilient to architecture erosion. It parallelizes development by enabling small autonomous teams to develop, deploy and scale their respective services independently. It also allows the architecture of an individual service to emerge through continuous refactoring. Microservices-based architectures enable continuous delivery and deployment.\" (https://en.wikipedia.org/wiki/Microservices)\n",
    "\n",
    "__Note:__ <span style=\"color:red;\">I often cut and paste definitions from Wikipedia. Wikipedia is not normative and is one of many views on any topic. The pages are a good overview and launching point for more details. Plus, if you can use Github for code and solutions, I can cut and paste text.</span>\n",
    "\n",
    "| <img src=\"./images/microservice_adoption.jpeg\"> |\n",
    "| :---: |\n",
    "| [Microservices Architecture Market Research Report-Global Forecast 2023](https://www.marketresearchfuture.com/reports/microservices-architecture-market-3149) |\n",
    "\n",
    "\n",
    "\n",
    "| <img src=\"./images/microservices-2015.jpeg\"> |\n",
    "| :---: |\n",
    "| [Microservice Adoption 2015](https://www.nginx.com/resources/library/app-dev-survey/)"
   ]
  },
  {
   "cell_type": "markdown",
   "metadata": {},
   "source": [
    "### Cloud Application\n",
    "\n",
    "__Concept__\n"
   ]
  },
  {
   "cell_type": "markdown",
   "metadata": {},
   "source": [
    "\"Cloud computing is an information technology (IT) paradigm that enables ubiquitous access to shared pools of configurable system resources and higher-level services that can be rapidly provisioned with minimal management effort, often over the Internet. Cloud computing relies on sharing of resources to achieve coherence and economies of scale, similar to a public utility.\" (https://en.wikipedia.org/wiki/Cloud_computing)\n",
    "\n",
    "\n",
    "| <img src=\"https://upload.wikimedia.org/wikipedia/commons/b/b5/Cloud_computing.svg\"> |\n",
    "| :--: |\n",
    "| [Cloud Computing](https://en.wikipedia.org/wiki/Cloud_computing)|\n",
    "\n",
    "__NIST Conceptual Model__\n",
    "\n",
    "- National Institute of Standards and Technology (NIST) defined a conceptual model for [cloud computing.](https://ws680.nist.gov/publication/get_pdf.cfm?pub_id=909505)\n",
    "\n",
    "- Somewhat date and conceptual, which means the ideas matter but no one directly realizes the architecture.\n",
    "\n",
    "| <img src=\"./images/nist-cloud.jpeg\" > |\n",
    "| :---: |\n",
    "| __NIST Cloud Concetual Model__ |\n",
    "\n",
    "<u>NIST Terminology</u><br>\n",
    "- _Infrastructure-as-a-Service:_ \"The capability provided to the consumer is to provision\n",
    "processing, storage, networks, and other fundamental computing resources where the\n",
    "consumer is able to deploy and run arbitrary software, which can include operating\n",
    "systems and applications. The consumer does not manage or control the underlying cloud\n",
    "infrastructure but has control over operating systems, storage, and deployed applications;\n",
    "and possibly limited control of select networking components (e.g., host firewalls).\"<br><br>\n",
    "- _Platform-as-a-Service:_ \"The capability provided to the consumer is to deploy onto the cloud\n",
    "infrastructure consumer-created or acquired applications created using programming languages, libraries, services, and tools supported by the provider.3 The consumer does\n",
    "not manage or control the underlying cloud infrastructure including network, servers,\n",
    "operating systems, or storage, but has control over the deployed applications and possibly\n",
    "configuration settings for the application-hosting environment.\" <br><br>\n",
    "- _Software-as-a-Service:_ The capability provided to the consumer is to use the provider’s\n",
    "applications running on a cloud infrastructure2\n",
    ". The applications are accessible from\n",
    "various client devices through either a thin client interface, such as a web browser (e.g.,\n",
    "web-based email), or a program interface. The consumer does not manage or control the\n",
    "underlying cloud infrastructure including network, servers, operating systems, storage, or\n",
    "even individual application capabilities, with the possible exception of limited userspecific\n",
    "application configuration settings.\n",
    "\n",
    "| <img src=\"./images/cloud_computing_layers.jpeg\"> |\n",
    "| :---: |\n",
    "| [Cloud Computing Layers](https://slideplayer.com/slide/4582525/) |\n"
   ]
  },
  {
   "cell_type": "markdown",
   "metadata": {},
   "source": [
    "Some additional concepts:<br>\n",
    "- _Mobile \"backend\" as a service (MBaaS):_ In the mobile \"backend\" as a service (m) model, also known as backend as a service (BaaS), web app and mobile app developers are provided with a way to link their applications to cloud storage and cloud computing services with application programming interfaces (APIs) exposed to their applications and custom software development kits (SDKs). Services include user management, push notifications, integration with social networking services and more. This is a relatively recent model in cloud computing,[74] with most BaaS startups dating from 2011 or later but trends indicate that these services are gaining significant mainstream traction with enterprise consumers.<br><br>\n",
    "\n",
    "- _Serverless computing:_ Serverless computing is a cloud computing code execution model in which the cloud provider fully manages starting and stopping virtual machines as necessary to serve requests, and requests are billed by an abstract measure of the resources required to satisfy the request, rather than per virtual machine, per hour. Despite the name, it does not actually involve running code without servers. Serverless computing is so named because the business or person that owns the system does not have to purchase, rent or provision servers or virtual machines for the back-end code to run on.<br><br>\n",
    "\n",
    "- _Function as a service (FaaS):_ Function as a service (FaaS) is a service-hosted remote procedure call that leverages serverless computing to enable the deployment of individual functions in the cloud that run in response to events. FaaS is included under the broader term serverless computing, but the terms may also be used interchangeably."
   ]
  },
  {
   "cell_type": "markdown",
   "metadata": {},
   "source": [
    "<img src=\"./images/lecture1/Slide25.jpg\" width=\"150%\">\n",
    "<img src=\"./images/lecture1/Slide26.jpg\" width=\"150%\">\n",
    "<img src=\"./images/lecture1/Slide27.jpg\" width=\"150%\">\n",
    "<img src=\"./images/lecture1/Slide28.jpg\" width=\"150%\">\n",
    "<img src=\"./images/lecture1/Slide29.jpg\" width=\"150%\">"
   ]
  },
  {
   "cell_type": "markdown",
   "metadata": {},
   "source": [
    "### How Does this Come Together?\n",
    "\n",
    "- IaaS provides the \"hardware\" in shared, scalable, elastic model consumable in chunks, usually _virtual machines_ or _containers._<br><br>\n",
    "- PaaS is prebuilt, prepackaged, application enablement and delivery software for building microservices.<br><br>\n",
    "- IaaS provides \"right size\" independent, virtual machines/containers to execute the microservice and supporting SW.<br><br>\n",
    "- SaaS is a complete, customizable, configurable solution to a problem, with an internal implementation that is a set of cooperating microservices.<br><br>\n",
    "- SaaS offers a user interface and APIs. New applications built as microservices on PaaS rely heavily on calling SaaS APIs and APIs into other forms of *aaS."
   ]
  },
  {
   "cell_type": "markdown",
   "metadata": {},
   "source": [
    "### So What are we Going to Do?\n",
    "\n",
    "__Course Work__\n",
    "\n",
    "- Build a simple multi-tenant cloud application:\n",
    "    - A set of microservices.\n",
    "    - Elements of cloud computing:\n",
    "        - PaaS\n",
    "        - FaaS\n",
    "        - Loggin\n",
    "        - Serverless\n",
    "        - Cloud Database(s)\n",
    "        - Security: Authentication, Authorization and Federation.\n",
    "        - Message Queues, Events and Event-Driven-Architecture\n",
    "        - Simple workflow and service orchestration.\n",
    "        - Call cloud business APIs.\n",
    "        - Other cool stuff.\n",
    "        \n",
    "        \n",
    "- Modeled on my startup's application, but you will define:\n",
    "    - The application.\n",
    "    - Business scenario and value.\n",
    "    - Features and functions.\n",
    "    \n",
    "    \n",
    "- Periodically demo, present and have an architecture review.\n",
    "\n",
    "\n",
    "- Sort of like a small startup, only with a bit more formal reviews.\n",
    "\n",
    "__Sparq/Seeka Demo and Overview__\n",
    "\n",
    "- Demo\n",
    "\n",
    "\n",
    "- Multi-tenancy\n",
    "\n",
    "\n",
    "- Architecture\n"
   ]
  },
  {
   "cell_type": "markdown",
   "metadata": {},
   "source": [
    "| <img src=\"./images/serverless/Slide07.jpg\" width=\"150%\"> |\n",
    "| :---: |\n",
    "| __Sparq/Seeka__ |"
   ]
  },
  {
   "cell_type": "markdown",
   "metadata": {},
   "source": [
    "| <img src=\"./images/serverless/Slide10.jpg\" width=\"150%\"> |\n",
    "| :---: |\n",
    "| __Sparq/Seeka__ |"
   ]
  },
  {
   "cell_type": "markdown",
   "metadata": {},
   "source": [
    "__Note:__\n",
    "- Amazon Web Services will be the realization of most technical concepts (e.g. serverless, pub/sub).\n",
    "\n",
    "\n",
    "- AWS is the dominant public cloud platform, but other vendors are becoming significant.\n",
    "\n",
    "\n",
    "- Concepts are what is important; you can master any realization once you understand the concepts.\n",
    "\n",
    "\n",
    "- Will try to factor in other cloud providers, e.g. Google."
   ]
  },
  {
   "cell_type": "markdown",
   "metadata": {},
   "source": [
    "|<img src=\"./images/Public-Cloud-Adoption-2018-vs-2017.png\">|\n",
    "| :---: |\n",
    "| [Cloud Provider Adoption](https://www.rightscale.com/blog/cloud-industry-insights/cloud-computing-trends-2018-state-cloud-survey) |"
   ]
  },
  {
   "cell_type": "markdown",
   "metadata": {},
   "source": [
    "### Course Format, Grading and Environment\n",
    "\n",
    "- Lectures: Friday, 1:10pm to 3:40pm; 603 Hamilton Hall\n",
    "    - 1:10 - 3:00 will be lecture on material.\n",
    "    - 3:00 - 3:40 will be optional discussion, recitation, etc.\n",
    "    \n",
    "    \n",
    "- Office Hours:\n",
    "    - Thursday, 8:00 AM to 1:00 PM\n",
    "    - By appointment, as needed, as available. I typically post on Piazza when I will have extra availability.\n",
    "    \n",
    "    \n",
    "- Course Material:\n",
    "    - No textbook\n",
    "        - Textbooks become out of date in this rapidly changing area.\n",
    "        - Material would span several books.\n",
    "    - Lecture notes and code samples (on Git). Sample code is mostly JavaScript and NodeJS.\n",
    "    - References to web documents and tutorials.\n",
    "    \n",
    "    \n",
    "- Grading:\n",
    "    - Based on final project, including project presentation. 4-5 person teams.\n",
    "    - Mandatory interim checkpoints and presentations, approximately every two weeks.\n",
    "    - Meeting instructor defined project requirements is an \"A.\"\n",
    "    \n",
    "    \n",
    "- Environment:\n",
    "    - Required: AWS (team) free [tier account](https://aws.amazon.com/free/?sc_channel=PS&sc_campaign=acquisition_US&sc_publisher=google&sc_medium=ACQ-P%7CPS-GO%7CBrand%7CSU%7CCore%7CCore%7CUS%7CEN%7CText&sc_content=Brand_Free_e&sc_detail=amazon%20free%20tier&sc_category=core&sc_segment=280392800801&sc_matchtype=e&sc_country=US&sc_kwcid=AL!4422!3!280392800801!e!!g!!amazon%20free%20tier&s_kwcid=AL!4422!3!280392800801!e!!g!!amazon%20free%20tier&ef_id=WKzT_wAAAJllO8d4:20180811135240:s).\n",
    "    - Recommended:\n",
    "        - WebStorm (free student licenses https://www.jetbrains.com/student/).\n",
    "        - Ananconda for Jupyter Notebooks (https://www.anaconda.com/download/#macos).\n",
    "        - JavaScript kernel plug-in for Jupyter Notebooks (https://github.com/n-riesco/ijavascript)."
   ]
  },
  {
   "cell_type": "code",
   "execution_count": null,
   "metadata": {},
   "outputs": [],
   "source": []
  }
 ],
 "metadata": {
  "kernelspec": {
   "display_name": "Javascript (Node.js)",
   "language": "javascript",
   "name": "javascript"
  },
  "language_info": {
   "file_extension": ".js",
   "mimetype": "application/javascript",
   "name": "javascript",
   "version": "8.10.0"
  },
  "toc": {
   "nav_menu": {},
   "number_sections": true,
   "sideBar": true,
   "skip_h1_title": false,
   "title_cell": "Table of Contents",
   "title_sidebar": "Contents",
   "toc_cell": false,
   "toc_position": {},
   "toc_section_display": true,
   "toc_window_display": false
  }
 },
 "nbformat": 4,
 "nbformat_minor": 2
}
